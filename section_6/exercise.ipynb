{
 "nbformat": 4,
 "nbformat_minor": 0,
 "metadata": {
  "colab": {
   "name": "exercise.ipynb",
   "provenance": [],
   "collapsed_sections": [],
   "authorship_tag": "ABX9TyOTnRFnEpwk1HZoRHBLtqQw",
   "include_colab_link": true
  },
  "kernelspec": {
   "name": "pycharm-df9d86e5",
   "language": "python",
   "display_name": "PyCharm (udemy_python_zero_ai)"
  }
 },
 "cells": [
  {
   "cell_type": "markdown",
   "metadata": {
    "id": "view-in-github",
    "colab_type": "text"
   },
   "source": [
    "<a href=\"https://colab.research.google.com/github/yukinaga/minnano_ai/blob/master/section_6/exercise.ipynb\" target=\"_parent\"><img src=\"https://colab.research.google.com/assets/colab-badge.svg\" alt=\"Open In Colab\"/></a>"
   ]
  },
  {
   "cell_type": "markdown",
   "metadata": {
    "id": "lhehkh1Zo49U",
    "colab_type": "text"
   },
   "source": [
    "# 演習\n",
    "scikit-learnを使って、ワインの分類を行いましょう。"
   ]
  },
  {
   "cell_type": "markdown",
   "metadata": {
    "id": "egtOwzRixb9M",
    "colab_type": "text"
   },
   "source": [
    "## ● ワインの分類\n",
    "scikit-learnのdatasetsから、`load_wine`によりワインのデータを読み込みます。  \n",
    "このデータは、イタリアの同じ地域で3つの異なる栽培者によって栽培されたワインの化学分析の結果です。  \n",
    "3種類のワインに含まれる成分について、13種類の測定が行われています。  \n",
    "https://scikit-learn.org/stable/datasets/index.html#wine-dataset  \n",
    "以下のコードの`wines.data`には各ワインの測定値が、`wines.target`には栽培者を表す0、1、2の数値が格納されています。  \n",
    "コードに追記を行い、ワインの分類を行いましょう。\n"
   ]
  },
  {
   "cell_type": "code",
   "metadata": {
    "id": "POLX6x7Do2Ux",
    "colab_type": "code",
    "colab": {}
   },
   "source": [
    "from sklearn import datasets\n",
    "from sklearn import svm\n",
    "from sklearn.model_selection import train_test_split\n",
    "from sklearn import metrics\n",
    "import matplotlib.pyplot as plt\n",
    "\n",
    "# ワインのデータを読み込み\n",
    "wines = datasets.load_wine()\n",
    "print(wines.data.shape)\n",
    "print(wines.target.shape)\n",
    "\n",
    "# 訓練データとテストデータに分割\n",
    "x_train, x_test, t_train, t_test = train_test_split(wines.data, wines.target)\n",
    "\n",
    "clf = svm.SVC() # この行にコードを追記\n",
    "clf.fit(x_train, t_train) # この行にコードを追記\n",
    "\n",
    "y_test = clf.predict(x_test)  # この行にコードを追記\n",
    "print(metrics.classification_report(t_test, y_test))  # 正解率など\n",
    "print(metrics.confusion_matrix(t_test, y_test))  # 行:正解、列:予測\n",
    "\n",
    "# メモ:予測結果から2のワインは1のワインと似ているようだ(2のワインを1と謝って判定しがちだった)"
   ],
   "execution_count": 4,
   "outputs": [
    {
     "name": "stdout",
     "output_type": "stream",
     "text": [
      "(178, 13)\n",
      "(178,)\n",
      "              precision    recall  f1-score   support\n",
      "\n",
      "           0       0.87      1.00      0.93        13\n",
      "           1       0.64      0.80      0.71        20\n",
      "           2       0.40      0.17      0.24        12\n",
      "\n",
      "    accuracy                           0.69        45\n",
      "   macro avg       0.64      0.66      0.62        45\n",
      "weighted avg       0.64      0.69      0.65        45\n",
      "\n",
      "[[13  0  0]\n",
      " [ 1 16  3]\n",
      " [ 1  9  2]]\n"
     ]
    }
   ]
  },
  {
   "cell_type": "markdown",
   "metadata": {
    "id": "swD6lOBsxout",
    "colab_type": "text"
   },
   "source": [
    "## 解答例\n",
    "以下は解答例です。どうしても手がかりがつかめないときのみ参考にしましょう。"
   ]
  },
  {
   "cell_type": "code",
   "metadata": {
    "id": "DxvJy2M9s-AX",
    "colab_type": "code",
    "colab": {}
   },
   "source": [
    "from sklearn import datasets\n",
    "from sklearn import svm\n",
    "from sklearn.model_selection import train_test_split\n",
    "from sklearn import metrics\n",
    "import matplotlib.pyplot as plt\n",
    "\n",
    "# ワインのデータを読み込み\n",
    "wines = datasets.load_wine()\n",
    "print(wines.data.shape)\n",
    "print(wines.target.shape)\n",
    "\n",
    "# 訓練データとテストデータに分割\n",
    "x_train, x_test, t_train, t_test = train_test_split(wines.data, wines.target)\n",
    "\n",
    "clf = svm.SVC()  # サポートベクターマシーン\n",
    "clf.fit(x_train, t_train)  # 訓練\n",
    "\n",
    "y_test = clf.predict(x_test)  # テストデータで予測\n",
    "print(metrics.classification_report(t_test, y_test))  # 正解率など\n",
    "print(metrics.confusion_matrix(t_test, y_test))  # 行:正解、列:予測"
   ],
   "execution_count": null,
   "outputs": []
  }
 ]
}